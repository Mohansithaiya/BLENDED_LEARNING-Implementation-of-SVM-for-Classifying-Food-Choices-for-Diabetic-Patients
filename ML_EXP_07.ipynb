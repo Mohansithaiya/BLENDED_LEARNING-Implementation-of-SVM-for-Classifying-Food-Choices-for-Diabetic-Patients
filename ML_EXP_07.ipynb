{
 "cells": [
  {
   "cell_type": "markdown",
   "id": "1eefb6db-ad93-4f6b-bc43-eb78771fac3a",
   "metadata": {},
   "source": [
    "### NAME: MOHAN S\n",
    "### REG.NO: 212223240094"
   ]
  },
  {
   "cell_type": "code",
   "execution_count": 2,
   "id": "008e3615-aae4-4da1-b9ca-1485878b3535",
   "metadata": {},
   "outputs": [
    {
     "name": "stdout",
     "output_type": "stream",
     "text": [
      "   Calories  Total Fat  Saturated Fat  Monounsaturated Fat  \\\n",
      "0     149.0          0            0.0                  0.0   \n",
      "1     123.0          0            0.0                  0.0   \n",
      "2     150.0          0            0.0                  0.0   \n",
      "3     110.0          0            0.0                  0.0   \n",
      "4     143.0          0            0.0                  0.0   \n",
      "\n",
      "   Polyunsaturated Fat  Trans Fat  Cholesterol  Sodium  Total Carbohydrate  \\\n",
      "0                  0.0        0.0            0     9.0                 9.8   \n",
      "1                  0.0        0.0            0     5.0                 6.6   \n",
      "2                  0.0        0.0            0     4.0                11.4   \n",
      "3                  0.0        0.0            0     6.0                 7.0   \n",
      "4                  0.0        0.0            0     7.0                13.1   \n",
      "\n",
      "   Dietary Fiber  Sugars  Sugar Alcohol  Protein  Vitamin A  Vitamin C  \\\n",
      "0            0.0     0.0              0      1.3          0          0   \n",
      "1            0.0     0.0              0      0.8          0          0   \n",
      "2            0.0     0.0              0      1.3          0          0   \n",
      "3            0.0     0.0              0      0.8          0          0   \n",
      "4            0.0     0.0              0      1.0          0          0   \n",
      "\n",
      "   Calcium  Iron  class  \n",
      "0        0     0      0  \n",
      "1        0     0      0  \n",
      "2        0     0      0  \n",
      "3        0     0      0  \n",
      "4        0     0      0  \n",
      "Index(['Calories', 'Total Fat', 'Saturated Fat', 'Monounsaturated Fat',\n",
      "       'Polyunsaturated Fat', 'Trans Fat', 'Cholesterol', 'Sodium',\n",
      "       'Total Carbohydrate', 'Dietary Fiber', 'Sugars', 'Sugar Alcohol',\n",
      "       'Protein', 'Vitamin A', 'Vitamin C', 'Calcium', 'Iron', 'class'],\n",
      "      dtype='object')\n",
      "Best Parameters: {'C': 100, 'gamma': 'scale', 'kernel': 'rbf'}\n",
      "\n",
      "Accuracy: 0.9794938917975567\n",
      "Classification Report:\n",
      "               precision    recall  f1-score   support\n",
      "\n",
      "           0       0.99      0.98      0.99      2003\n",
      "           1       0.88      0.97      0.92       289\n",
      "\n",
      "    accuracy                           0.98      2292\n",
      "   macro avg       0.94      0.97      0.96      2292\n",
      "weighted avg       0.98      0.98      0.98      2292\n",
      "\n"
     ]
    },
    {
     "data": {
      "image/png": "[encoded data removed]",
      "text/plain": [
       "<Figure size 640x480 with 2 Axes>"
      ]
     },
     "metadata": {},
     "output_type": "display_data"
    }
   ],
   "source": [
    "# Import necessary libraries\n",
    "import pandas as pd\n",
    "from sklearn.model_selection import train_test_split, GridSearchCV\n",
    "from sklearn.preprocessing import StandardScaler\n",
    "from sklearn.svm import SVC\n",
    "from sklearn.metrics import accuracy_score, classification_report, confusion_matrix\n",
    "import seaborn as sns\n",
    "import matplotlib.pyplot as plt\n",
    "\n",
    "# Step 1: Load the dataset from the URL\n",
    "data = pd.read_csv('food_items_binary (1).csv')\n",
    "\n",
    "# Step 2: Data Exploration\n",
    "# Display the first few rows and column names for verification\n",
    "print(data.head())\n",
    "print(data.columns)\n",
    "\n",
    "# Step 3: Selecting Features and Target\n",
    "# Define relevant features and target column\n",
    "features = ['Calories', 'Total Fat', 'Saturated Fat', 'Sugars', 'Dietary Fiber', 'Protein']\n",
    "target = 'class'  # Assuming 'class' is binary (suitable or not suitable for diabetic patients)\n",
    "\n",
    "X = data[features]\n",
    "y = data[target]\n",
    "\n",
    "# Step 4: Splitting Data\n",
    "X_train, X_test, y_train, y_test = train_test_split(X, y, test_size=0.3, random_state=42)\n",
    "\n",
    "# Step 5: Feature Scaling\n",
    "scaler = StandardScaler()\n",
    "X_train = scaler.fit_transform(X_train)\n",
    "X_test = scaler.transform(X_test)\n",
    "\n",
    "# Step 6: Model Training with Hyperparameter Tuning using GridSearchCV\n",
    "# Define the SVM model\n",
    "svm = SVC()\n",
    "\n",
    "# Set up hyperparameter grid for tuning\n",
    "param_grid = {\n",
    "    'C': [0.1, 1, 10, 100],              # Regularization parameter\n",
    "    'kernel': ['linear', 'rbf'],         # Kernel types\n",
    "    'gamma': ['scale', 'auto']           # Kernel coefficient for 'rbf'\n",
    "}\n",
    "\n",
    "# Initialize GridSearchCV\n",
    "grid_search = GridSearchCV(svm, param_grid, cv=5, scoring='accuracy')\n",
    "grid_search.fit(X_train, y_train)\n",
    "\n",
    "# Extract the best model\n",
    "best_model = grid_search.best_estimator_\n",
    "print(\"Best Parameters:\", grid_search.best_params_)\n",
    "\n",
    "# Step 7: Model Evaluation\n",
    "# Predicting on the test set using the best model\n",
    "y_pred = best_model.predict(X_test)\n",
    "\n",
    "# Calculate accuracy and print classification metrics\n",
    "print()\n",
    "accuracy = accuracy_score(y_test, y_pred)\n",
    "print(\"Accuracy:\", accuracy)\n",
    "print(\"Classification Report:\\n\", classification_report(y_test, y_pred))\n",
    "\n",
    "# Confusion Matrix\n",
    "conf_matrix = confusion_matrix(y_test, y_pred)\n",
    "sns.heatmap(conf_matrix, annot=True, fmt=\"d\", cmap=\"Blues\")\n",
    "plt.xlabel(\"Predicted\")\n",
    "plt.ylabel(\"Actual\")\n",
    "plt.title(\"Confusion Matrix\")\n",
    "plt.show()\n"
   ]
  },
  {
   "cell_type": "markdown",
   "id": "167c39e7-3d6b-4184-904a-5b2264936e8a",
   "metadata": {},
   "source": [
    "### NAME: MOHAN S\n",
    "### REG.NO: 212223240094"
   ]
  },
  {
   "cell_type": "code",
   "execution_count": null,
   "id": "5847234c-eebe-48f3-96d8-73f5f415a90e",
   "metadata": {},
   "outputs": [],
   "source": []
  },
  {
   "cell_type": "code",
   "execution_count": null,
   "id": "ef973881-661d-427b-8cbb-2b6340042028",
   "metadata": {},
   "outputs": [],
   "source": []
  }
 ],
 "metadata": {
  "kernelspec": {
   "display_name": "Python 3 (ipykernel)",
   "language": "python",
   "name": "python3"
  },
  "language_info": {
   "codemirror_mode": {
    "name": "ipython",
    "version": 3
   },
   "file_extension": ".py",
   "mimetype": "text/x-python",
   "name": "python",
   "nbconvert_exporter": "python",
   "pygments_lexer": "ipython3",
   "version": "3.11.11"
  }
 },
 "nbformat": 4,
 "nbformat_minor": 5
}
